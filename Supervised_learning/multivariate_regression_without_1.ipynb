{
 "cells": [
  {
   "cell_type": "code",
   "execution_count": 35,
   "metadata": {},
   "outputs": [],
   "source": [
    "import numpy as np\n",
    "import matplotlib.pyplot as plt\n",
    "from mpl_toolkits.mplot3d import Axes3D "
   ]
  },
  {
   "cell_type": "code",
   "execution_count": 36,
   "metadata": {},
   "outputs": [
    {
     "name": "stdout",
     "output_type": "stream",
     "text": [
      "(5,)\n"
     ]
    },
    {
     "data": {
      "text/plain": [
       "(5,)"
      ]
     },
     "execution_count": 36,
     "metadata": {},
     "output_type": "execute_result"
    }
   ],
   "source": [
    "x_data=np.array([[1,2],[2,3],[3,1],[4,4],[2,4]]).transpose()\n",
    "y_data=np.array([16,21,17,28,24])\n",
    "print(x_data[0].shape)\n",
    "y_data.shape"
   ]
  },
  {
   "cell_type": "markdown",
   "metadata": {},
   "source": [
    "2*x1+3*x2+8"
   ]
  },
  {
   "cell_type": "code",
   "execution_count": 37,
   "metadata": {},
   "outputs": [
    {
     "name": "stdout",
     "output_type": "stream",
     "text": [
      "5\n"
     ]
    }
   ],
   "source": [
    "w1=np.random.randint(10)\n",
    "w2=np.random.randint(10)\n",
    "b=np.random.randint(10)\n",
    "m=len(x_data[0])\n",
    "print(m)\n"
   ]
  },
  {
   "cell_type": "code",
   "execution_count": 38,
   "metadata": {},
   "outputs": [],
   "source": [
    "def cost_f(x_data,y_data,w1,w2,b):\n",
    "    y_pred=w1*x_data[0]+w2*x_data[1]+b\n",
    "    error=y_pred-y_data\n",
    "    k=error**2\n",
    "    c_f=(1/(2*m))*k\n",
    "    return c_f\n"
   ]
  },
  {
   "cell_type": "code",
   "execution_count": 42,
   "metadata": {},
   "outputs": [
    {
     "name": "stdout",
     "output_type": "stream",
     "text": [
      "weight1: 2.0000000000000973\n",
      "weight2 3.000000000000084\n",
      "bias 7.9999999999994875\n"
     ]
    }
   ],
   "source": [
    "e=10000\n",
    "l_r=0.01\n",
    "for i in range(e):\n",
    "    y_pred=w1*x_data[0]+w2*x_data[1]+b\n",
    "    error=y_pred-y_data\n",
    "    df_w=(1/m)*np.dot(x_data,error)\n",
    "    df_b=(1/m)*np.sum(error)\n",
    "    w1=w1-l_r*df_w[0]\n",
    "    w2=w2-l_r*df_w[1]\n",
    "    b=b-l_r*df_b\n",
    "print('weight1:',w1)\n",
    "print('weight2',w2)\n",
    "print('bias',b)\n"
   ]
  }
 ],
 "metadata": {
  "kernelspec": {
   "display_name": "Python 3",
   "language": "python",
   "name": "python3"
  },
  "language_info": {
   "codemirror_mode": {
    "name": "ipython",
    "version": 3
   },
   "file_extension": ".py",
   "mimetype": "text/x-python",
   "name": "python",
   "nbconvert_exporter": "python",
   "pygments_lexer": "ipython3",
   "version": "3.11.1"
  },
  "orig_nbformat": 4
 },
 "nbformat": 4,
 "nbformat_minor": 2
}
