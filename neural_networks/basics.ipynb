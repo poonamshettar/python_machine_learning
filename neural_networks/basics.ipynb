{
 "cells": [
  {
   "cell_type": "markdown",
   "metadata": {},
   "source": [
    "output of single neuron with 3 inputs(assumed weights)"
   ]
  },
  {
   "cell_type": "code",
   "execution_count": 1,
   "metadata": {},
   "outputs": [
    {
     "name": "stdout",
     "output_type": "stream",
     "text": [
      "2.1\n"
     ]
    }
   ],
   "source": [
    "input=[1,2,3]\n",
    "weight=[0.2,0.3,0.1]\n",
    "bias=1\n",
    "output=input[0]*weight[0]+input[1]*weight[1]+input[2]*weight[2]+bias\n",
    "print(output)"
   ]
  },
  {
   "cell_type": "markdown",
   "metadata": {},
   "source": [
    "output of an hidden layer with three inputs"
   ]
  },
  {
   "cell_type": "code",
   "execution_count": 5,
   "metadata": {},
   "outputs": [
    {
     "name": "stdout",
     "output_type": "stream",
     "text": [
      "[3.0, 3.7, 2.4]\n"
     ]
    }
   ],
   "source": [
    "input=[1,2,3,4]\n",
    "weight1=[0.1,0.2,0.1,0.3]\n",
    "weight2=[0.1,0.3,0.4,0.2]\n",
    "weight3=[0.1,0.2,0.1,0.15]\n",
    "bias1=1\n",
    "bias2=2\n",
    "bias3=1\n",
    "bias4=3\n",
    "output=[input[0]*weight1[0]+input[1]*weight1[1]+input[2]*weight1[2]+input[3]*weight1[3]+bias1,\n",
    "        input[0]*weight2[0]+input[1]*weight2[1]+input[2]*weight2[2]+input[3]*weight2[3]+bias1,\n",
    "        input[0]*weight3[0]+input[1]*weight3[1]+input[2]*weight3[2]+input[3]*weight3[3]+bias1]\n",
    "print(output)\n"
   ]
  }
 ],
 "metadata": {
  "kernelspec": {
   "display_name": "college",
   "language": "python",
   "name": "python3"
  },
  "language_info": {
   "codemirror_mode": {
    "name": "ipython",
    "version": 3
   },
   "file_extension": ".py",
   "mimetype": "text/x-python",
   "name": "python",
   "nbconvert_exporter": "python",
   "pygments_lexer": "ipython3",
   "version": "3.11.4"
  },
  "orig_nbformat": 4
 },
 "nbformat": 4,
 "nbformat_minor": 2
}
