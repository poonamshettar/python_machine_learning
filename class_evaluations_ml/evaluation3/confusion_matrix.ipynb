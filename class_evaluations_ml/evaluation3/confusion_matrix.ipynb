{
 "cells": [
  {
   "cell_type": "code",
   "execution_count": 2,
   "metadata": {},
   "outputs": [
    {
     "name": "stdout",
     "output_type": "stream",
     "text": [
      "accuracy 58.333333333333336\n",
      "precision 57.14285714285714\n",
      "recall 66.66666666666666\n",
      "f1_score 61.53846153846153\n"
     ]
    }
   ],
   "source": [
    "tp=40\n",
    "fn=20\n",
    "fp=30\n",
    "tn=30\n",
    "accuracy=((tp+tn)/(fp+fn+tp+tn))*100\n",
    "precision=((tp)/(tp+fp))*100\n",
    "recall=(tp/(tp+fn))*100\n",
    "f1_score=2*precision*recall/(precision+recall)\n",
    "print('accuracy',accuracy)\n",
    "print('precision',precision)\n",
    "print('recall',recall)\n",
    "print('f1_score',f1_score)"
   ]
  }
 ],
 "metadata": {
  "kernelspec": {
   "display_name": "college",
   "language": "python",
   "name": "python3"
  },
  "language_info": {
   "codemirror_mode": {
    "name": "ipython",
    "version": 3
   },
   "file_extension": ".py",
   "mimetype": "text/x-python",
   "name": "python",
   "nbconvert_exporter": "python",
   "pygments_lexer": "ipython3",
   "version": "3.11.4"
  },
  "orig_nbformat": 4
 },
 "nbformat": 4,
 "nbformat_minor": 2
}
