{
 "cells": [
  {
   "cell_type": "code",
   "execution_count": 14,
   "metadata": {},
   "outputs": [
    {
     "name": "stdout",
     "output_type": "stream",
     "text": [
      "Humpty_dumpty\n"
     ]
    }
   ],
   "source": [
    "def humpty_dumpty(x):\n",
    "    if(x%3==0 and x%5==0):\n",
    "     return('Humpty_dumpty')\n",
    "    elif(x%3==0):\n",
    "       return('Humpty')\n",
    "    elif(x%5==0):\n",
    "       return('Dumpty')\n",
    "    else: return x\n",
    "x=int(input('Enter number: '))\n",
    "print(humpty_dumpty(x))"
   ]
  },
  {
   "cell_type": "code",
   "execution_count": 12,
   "metadata": {},
   "outputs": [
    {
     "name": "stdout",
     "output_type": "stream",
     "text": [
      "98\n"
     ]
    }
   ],
   "source": [
    "def sum_range():\n",
    "    sum=0\n",
    "    for i in range(x+1):\n",
    "        if(i%3==0 or i%5==0):\n",
    "            sum+=i\n",
    "    return sum\n",
    "x=int(input('Enter range'))\n",
    "print(sum_range())"
   ]
  },
  {
   "cell_type": "code",
   "execution_count": 8,
   "metadata": {},
   "outputs": [
    {
     "name": "stdout",
     "output_type": "stream",
     "text": [
      "[[6, 20], [15, 47]]\n"
     ]
    }
   ],
   "source": [
    "b=[[1,2],[1,3],[1,4]]\n",
    "a=[[1,2,3],[4,5,6]]\n",
    "p=[[0,0],[0,0]]\n",
    "for i in range(len(a)):\n",
    "    for j in range(len(b[0])):\n",
    "        for k in range(len(b)):\n",
    "            p[i][j]+=a[i][k]*b[k][j]\n",
    "print(p)"
   ]
  }
 ],
 "metadata": {
  "kernelspec": {
   "display_name": "Python 3",
   "language": "python",
   "name": "python3"
  },
  "language_info": {
   "codemirror_mode": {
    "name": "ipython",
    "version": 3
   },
   "file_extension": ".py",
   "mimetype": "text/x-python",
   "name": "python",
   "nbconvert_exporter": "python",
   "pygments_lexer": "ipython3",
   "version": "3.11.1"
  },
  "orig_nbformat": 4
 },
 "nbformat": 4,
 "nbformat_minor": 2
}
