{
 "cells": [
  {
   "cell_type": "code",
   "execution_count": 23,
   "metadata": {},
   "outputs": [],
   "source": [
    "from youtube_transcript_api import YouTubeTranscriptApi\n",
    "from transformers import pipeline\n",
    "transcript=YouTubeTranscriptApi.get_transcript('B3XY0gmfDHg')\n",
    "transcript_ = ''.join([d['text'] for d in transcript])"
   ]
  },
  {
   "cell_type": "code",
   "execution_count": 24,
   "metadata": {},
   "outputs": [
    {
     "name": "stdout",
     "output_type": "stream",
     "text": [
      "looked like Dhoni, I want to be looked like Deepika \n",
      "Padukone, I want to be look like Katrina, I give a  look-alike photo of my favorite hero or cricket \n",
      "star on my facebook so you could keep a photo and  people say hey you look like Deepika and you say \n",
      "thank you so much thank you for what you are not  being identified as you as somebody else then \n",
      "you are feeling so proud in that and then you  say nobody takes me seriously why will they take \n",
      "you seriously when you are not proud about being  yourself understand this respecting yourself is \n",
      "a very important aspect you might have done some  mistakes there are no Saints without the past and \n",
      "there are no sinners without the future mistakes  happen all of us have committed some mistakes \n",
      "forgive yourself first and start respecting  yourself come to that terms and tell yourself you \n",
      "are somebody don't become just a yes man every  various person yes yes yes going with that group \n",
      "yes yes yes going with this group yes yes yes Mary  sense of your individuality that you are somebody \n",
      "and your opinions matter and for that a  deep  thinking has to happen. reflection has to happen. \n",
      "contemplation has to become part of your routine.\n"
     ]
    }
   ],
   "source": [
    "print(transcript_)"
   ]
  },
  {
   "cell_type": "code",
   "execution_count": 25,
   "metadata": {},
   "outputs": [
    {
     "name": "stderr",
     "output_type": "stream",
     "text": [
      "No model was supplied, defaulted to sshleifer/distilbart-cnn-12-6 and revision a4f8f3e (https://huggingface.co/sshleifer/distilbart-cnn-12-6).\n",
      "Using a pipeline without specifying a model name and revision in production is not recommended.\n",
      "Your max_length is set to 142, but your input_length is only 46. Since this is a summarization task, where outputs shorter than the input are typically wanted, you might consider decreasing max_length manually, e.g. summarizer('...', max_length=23)\n"
     ]
    }
   ],
   "source": [
    "summariser = pipeline('summarization')\n",
    "summary = ''\n",
    "for i in range(0, (len(transcript_)//1000)+1):\n",
    "        summary_text = summariser(transcript_[i*1000:(i+1)*1000])[0]['summary_text']\n",
    "        summary = summary + summary_text + ' '"
   ]
  },
  {
   "cell_type": "code",
   "execution_count": 26,
   "metadata": {},
   "outputs": [
    {
     "name": "stdout",
     "output_type": "stream",
     "text": [
      " I give a look-alike photo of my favorite hero or cricket star on my facebook so you could keep a photo . People say hey you look like Deepika Padukone, I want to be looked like Katrina Katrina, I. looked like Dhoni, I . want to look like Deepika Padukone and Katrina Katrina Katrina . But when you are not being identified as you as somebody else then you are feeling so proud in that and then you . say nobody takes me seriously why will they take you seriously when you . are not proud about being not proud .  Your individuality that you are somebody and your opinions matter and for that a deep thinking has to happen. reflection has to be part of your routine.   your individuality that  you are  somebody  and  opinions matter . For that, a deep reflection must happen. contemplation has to become part of the routine. \n"
     ]
    }
   ],
   "source": [
    "print(summary)"
   ]
  }
 ],
 "metadata": {
  "kernelspec": {
   "display_name": "project",
   "language": "python",
   "name": "python3"
  },
  "language_info": {
   "codemirror_mode": {
    "name": "ipython",
    "version": 3
   },
   "file_extension": ".py",
   "mimetype": "text/x-python",
   "name": "python",
   "nbconvert_exporter": "python",
   "pygments_lexer": "ipython3",
   "version": "3.9.17"
  },
  "orig_nbformat": 4
 },
 "nbformat": 4,
 "nbformat_minor": 2
}
